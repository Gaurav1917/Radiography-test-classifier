{
  "nbformat": 4,
  "nbformat_minor": 0,
  "metadata": {
    "colab": {
      "provenance": []
    },
    "kernelspec": {
      "name": "python3",
      "display_name": "Python 3"
    },
    "language_info": {
      "name": "python"
    }
  },
  "cells": [
    {
      "cell_type": "markdown",
      "source": [
        "#Deployment in HuggingFace using Gradio."
      ],
      "metadata": {
        "id": "CavXLNvPDZ_C"
      }
    },
    {
      "cell_type": "markdown",
      "source": [
        "##importing necessary libraries."
      ],
      "metadata": {
        "id": "IkerDDdZDjcJ"
      }
    },
    {
      "cell_type": "code",
      "source": [
        "from tensorflow import keras\n",
        "import gradio as gr"
      ],
      "metadata": {
        "id": "RMbGSS4mC0d7"
      },
      "execution_count": null,
      "outputs": []
    },
    {
      "cell_type": "markdown",
      "source": [
        "##Loading the saved model"
      ],
      "metadata": {
        "id": "Ex6_0vj0DyfO"
      }
    },
    {
      "cell_type": "code",
      "source": [
        "loaded_model = keras.models.load_model(\"./model.h5\")\n",
        "loaded_model.load_weights(\"./model.h5\")\n",
        "categories = ['Lungs Disease','Normal']\n"
      ],
      "metadata": {
        "id": "RywzSIwJDExp"
      },
      "execution_count": null,
      "outputs": []
    },
    {
      "cell_type": "markdown",
      "source": [
        "##Function for prediction"
      ],
      "metadata": {
        "id": "Ar0IyZN5D3uZ"
      }
    },
    {
      "cell_type": "code",
      "source": [
        "def predict_image(img):\n",
        "  img_reshape = img.reshape(1,180,180,3)\n",
        "  prediction=loaded_model.predict(img_reshape)[0]\n",
        "  return {categories[i]: float(prediction[i]) for i in range(2)}\n",
        ""
      ],
      "metadata": {
        "id": "cyA6V8gtDIwT"
      },
      "execution_count": null,
      "outputs": []
    },
    {
      "cell_type": "markdown",
      "source": [
        "##Input and Output"
      ],
      "metadata": {
        "id": "TWcySH1yD9SX"
      }
    },
    {
      "cell_type": "code",
      "source": [
        "image = gr.inputs.Image(shape=(180,180))\n",
        "label = gr.outputs.Label(num_top_classes=2)\n"
      ],
      "metadata": {
        "id": "jP7Xr5-YDNTr"
      },
      "execution_count": null,
      "outputs": []
    },
    {
      "cell_type": "markdown",
      "source": [
        "##Gradio Interface"
      ],
      "metadata": {
        "id": "HYZw37hMEBDO"
      }
    },
    {
      "cell_type": "code",
      "source": [
        "gr.Interface(fn=predict_image,inputs=image,outputs=label,capture_session=True,interpretation='default',theme='HaleyCH/HaleyCH_Theme',examples=[[\"IMG_20231025_185117.jpg\"],[\"COVID-2091.png\"]],title=\"X-Ray Lung Detective\",description=\"Only insert the images of Chest-X-rays, format given below in the examples. If you insert any other images instead of Chest-X-rays images then this model will always predict lungs disease and also do not insert multiple images.\").launch(debug='True')\n"
      ],
      "metadata": {
        "id": "MUDLTEV6DQxx"
      },
      "execution_count": null,
      "outputs": []
    },
    {
      "cell_type": "markdown",
      "source": [],
      "metadata": {
        "id": "k-lPEzfjDY5P"
      }
    }
  ]
}